{
 "cells": [
  {
   "cell_type": "code",
   "execution_count": 1,
   "id": "ea5f4699-5153-47aa-97e9-26811b34764f",
   "metadata": {},
   "outputs": [],
   "source": [
    "import pandas as pd"
   ]
  },
  {
   "cell_type": "code",
   "execution_count": 2,
   "id": "0552061c-60ff-48fe-9a46-78a87a5f8c8c",
   "metadata": {},
   "outputs": [],
   "source": [
    "df = pd.read_csv(\"../data_given/winequality.csv\")"
   ]
  },
  {
   "cell_type": "code",
   "execution_count": 7,
   "id": "2c6f575a-502c-44a1-853a-cdef70bf6e2f",
   "metadata": {},
   "outputs": [],
   "source": [
    "df.describe().loc[[\"min\",\"max\"]].to_json(\"schema_min_max.json\")"
   ]
  },
  {
   "cell_type": "markdown",
   "id": "05abc3b0-862c-442e-92f8-01d43d6f4a40",
   "metadata": {},
   "source": [
    "## Create Custom Error"
   ]
  },
  {
   "cell_type": "code",
   "execution_count": 5,
   "id": "5f501d9b-cb01-42ad-ac0d-00203f36675b",
   "metadata": {},
   "outputs": [],
   "source": [
    "class NotInRange(Exception):\n",
    "    def __init__(self, message=\"Value not in range\"):\n",
    "        self.message = message\n",
    "        super().__init__(self.message)"
   ]
  },
  {
   "cell_type": "code",
   "execution_count": 6,
   "id": "d660547a-7260-4d04-bf28-8fad3b3f9583",
   "metadata": {},
   "outputs": [
    {
     "ename": "NotInRange",
     "evalue": "Value not in range",
     "output_type": "error",
     "traceback": [
      "\u001b[0;31m---------------------------------------------------------------------------\u001b[0m",
      "\u001b[0;31mNotInRange\u001b[0m                                Traceback (most recent call last)",
      "\u001b[0;32m/var/folders/4m/cfqzkfgd17105k651rbyxmn40000gp/T/ipykernel_2426/749905967.py\u001b[0m in \u001b[0;36m<module>\u001b[0;34m\u001b[0m\n\u001b[0;32m----> 1\u001b[0;31m \u001b[0;32mraise\u001b[0m \u001b[0mNotInRange\u001b[0m\u001b[0;34m\u001b[0m\u001b[0;34m\u001b[0m\u001b[0m\n\u001b[0m",
      "\u001b[0;31mNotInRange\u001b[0m: Value not in range"
     ]
    }
   ],
   "source": [
    "raise NotInRange"
   ]
  },
  {
   "cell_type": "code",
   "execution_count": null,
   "id": "a3a873af-1813-4565-81f0-6821b377fae1",
   "metadata": {},
   "outputs": [],
   "source": []
  }
 ],
 "metadata": {
  "kernelspec": {
   "display_name": "Python 3 (ipykernel)",
   "language": "python",
   "name": "python3"
  },
  "language_info": {
   "codemirror_mode": {
    "name": "ipython",
    "version": 3
   },
   "file_extension": ".py",
   "mimetype": "text/x-python",
   "name": "python",
   "nbconvert_exporter": "python",
   "pygments_lexer": "ipython3",
   "version": "3.7.11"
  }
 },
 "nbformat": 4,
 "nbformat_minor": 5
}
